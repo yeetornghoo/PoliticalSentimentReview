{
  "nbformat": 4,
  "nbformat_minor": 0,
  "metadata": {
    "colab": {
      "name": "TTTP6234 - Assignment2_P101447_HOOYT.ipynb",
      "provenance": [],
      "collapsed_sections": [],
      "toc_visible": true
    },
    "kernelspec": {
      "name": "python3",
      "display_name": "Python 3"
    }
  },
  "cells": [
    {
      "cell_type": "markdown",
      "metadata": {
        "id": "O-ZHDwP5nCmZ",
        "colab_type": "text"
      },
      "source": [
        "# Assignment #2\n",
        "## Topic: Political Reviews - Assess Review by Using Lexicon Sentiment from Assignment 1\n",
        "\n",
        "Name: **Hoo Yee Torng** </br>\n",
        "Matrix: **P101447**"
      ]
    },
    {
      "cell_type": "markdown",
      "metadata": {
        "id": "E0NYnTZz2mXS",
        "colab_type": "text"
      },
      "source": [
        "## 1.0 IMPORT LIBRARY\n",
        "Import all the library needed and download the database for Spacy, NLTK Lemmatizer, Stopwords etc"
      ]
    },
    {
      "cell_type": "code",
      "metadata": {
        "id": "o0nn6Uw9m67n",
        "colab_type": "code",
        "colab": {}
      },
      "source": [
        "import pandas as pd\n",
        "import nltk\n",
        "import csv\n"
      ],
      "execution_count": 0,
      "outputs": []
    },
    {
      "cell_type": "code",
      "metadata": {
        "id": "G3EYMvrDiigc",
        "colab_type": "code",
        "colab": {}
      },
      "source": [
        "with open('lexicon_political_master.csv', 'r') as f:\n",
        "    reader = csv.reader(f)\n",
        "    lexicon = list(reader)"
      ],
      "execution_count": 0,
      "outputs": []
    },
    {
      "cell_type": "code",
      "metadata": {
        "id": "MpNdz3QStZe5",
        "colab_type": "code",
        "colab": {}
      },
      "source": [
        "\n",
        "def assess_review_file(file_name, file_type):\n",
        "  items = []\n",
        "  with open(file_name, 'r') as reviewfile:\n",
        "    reader = csv.reader(reviewfile)\n",
        "    next(reader, None)\n",
        "    item = []\n",
        "\n",
        "    for row in reader:\n",
        "      positive_ttl = 0\n",
        "      negative_ttl = 0\n",
        "      review = row[0].lower()\n",
        "      word_tokens = nltk.word_tokenize(review.lower())\n",
        "      for word in word_tokens:\n",
        "        res = [i for i in lexicon if word in i] \n",
        "        if len(res) > 0:\n",
        "          score = int(res[0][1])\n",
        "          if score > 0:\n",
        "            positive_ttl += 1\n",
        "          elif score < 0:\n",
        "            negative_ttl += -1\n",
        "\n",
        "      item = [file_type, review, positive_ttl, negative_ttl, (positive_ttl + negative_ttl)]\n",
        "      items.append(item)\n",
        "    \n",
        "    return items\n",
        "\n",
        "def assess_positive_accuracy(review):\n",
        "  total_review = len(review)\n",
        "  total_positive = 0\n",
        "  for ele in enumerate(review): \n",
        "    if ele[1][4] > 0:\n",
        "       total_positive += 1 \n",
        "\n",
        "  print(\"Total Reviews: {}\".format(total_review))\n",
        "  print(\"Total Flagged as Positive: {}\".format(total_positive))\n",
        "  print(\"Accuracy Rate: {}%\".format(round((total_positive/total_review)*100, 2)))\n",
        "\n",
        "def assess_negative_accuracy(review):\n",
        "  total_review = len(review)\n",
        "  total_negative = 0\n",
        "  for ele in enumerate(review): \n",
        "    if ele[1][4] < 0:\n",
        "       total_negative += 1 \n",
        "\n",
        "  print(\"Total Reviews: {}\".format(total_review))\n",
        "  print(\"Total Flagged as Negative: {}\".format(total_negative))\n",
        "  print(\"Accuracy Rate: {}%\".format(round((total_negative/total_review)*100, 2)))  "
      ],
      "execution_count": 0,
      "outputs": []
    },
    {
      "cell_type": "code",
      "metadata": {
        "id": "_xb3LZdQkzSg",
        "colab_type": "code",
        "colab": {
          "base_uri": "https://localhost:8080/",
          "height": 72
        },
        "outputId": "97ef3df8-d52d-4fa6-d30e-2c382196f7b7"
      },
      "source": [
        "PositiveReviews = assess_review_file(\"politic_issues_positive_reviews.csv\", \"PositiveFile\")\n",
        "assess_positive_accuracy(PositiveReviews)"
      ],
      "execution_count": 4,
      "outputs": [
        {
          "output_type": "stream",
          "text": [
            "Total Reviews: 46\n",
            "Total Flagged as Positive: 36\n",
            "Accuracy Rate: 78.26%\n"
          ],
          "name": "stdout"
        }
      ]
    },
    {
      "cell_type": "code",
      "metadata": {
        "id": "mFeGlwcZrfsv",
        "colab_type": "code",
        "colab": {
          "base_uri": "https://localhost:8080/",
          "height": 72
        },
        "outputId": "dfc9865a-a6e0-4a0d-86c5-c89d3d54d7ac"
      },
      "source": [
        "NegativeReviews = assess_review_file(\"politic_issues_negative_reviews.csv\", \"NegativeeFile\")\n",
        "assess_negative_accuracy(NegativeReviews)"
      ],
      "execution_count": 5,
      "outputs": [
        {
          "output_type": "stream",
          "text": [
            "Total Reviews: 54\n",
            "Total Flagged as Negative: 34\n",
            "Accuracy Rate: 62.96%\n"
          ],
          "name": "stdout"
        }
      ]
    }
  ]
}